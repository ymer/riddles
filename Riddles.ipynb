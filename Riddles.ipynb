{
 "cells": [
  {
   "cell_type": "markdown",
   "metadata": {},
   "source": [
    "# Riddles solved with Julia"
   ]
  },
  {
   "cell_type": "markdown",
   "metadata": {},
   "source": [
    "### Overview\n",
    "\n",
    "#### 1. [Knights on an infinite chessboard](#p1)\n",
    "#### 2. [Collecting cigarette cards](#p2)\n",
    "#### 3. [The weighted dice](#p3)\n",
    "\n",
    "<br>\n",
    "\n"
   ]
  },
  {
   "cell_type": "code",
   "execution_count": 1,
   "metadata": {},
   "outputs": [],
   "source": [
    "using Random\n",
    "using Statistics\n",
    "using Memoize\n",
    "using Base.Iterators\n",
    "\n",
    "repeat(f::Function, n::Integer) = [f() for _ in 1:n]\n",
    "nsims = 10^5;\n",
    "simprob(f) = sum(repeat(f, nsims)) / nsims\n",
    "\n",
    "Random.seed!(0);"
   ]
  },
  {
   "cell_type": "markdown",
   "metadata": {},
   "source": [
    "<br>"
   ]
  },
  {
   "cell_type": "markdown",
   "metadata": {},
   "source": [
    "### <a name=\"p1\"> Knight on an infinite chessboard\n",
    "\n",
    "**Problem**  \n",
    "Suppose that a knight makes a “random walk” on an infinite chessboard. Specifically, every turn the knight follows standard chess rules and moves to one of its eight accessible squares, each with probability 1/8.\n",
    "\n",
    "What is the probability that after the twentieth move the knight is back on its starting square?\n",
    "\n",
    "**Simulation solution**  \n",
    "The knight moves two tiles in any direction, and one tile in a direction perpendicular to that. Approximate solution using simulations."
   ]
  },
  {
   "cell_type": "code",
   "execution_count": 2,
   "metadata": {},
   "outputs": [
    {
     "data": {
      "text/plain": [
       "0.00621"
      ]
     },
     "execution_count": 2,
     "metadata": {},
     "output_type": "execute_result"
    }
   ],
   "source": [
    "move() = shuffle(1:2) .* rand([-1, 1], 2)\n",
    "is_back_to_start() = sum(repeat(move, 20)) == [0,0]\n",
    "simprob(is_back_to_start)"
   ]
  },
  {
   "cell_type": "markdown",
   "metadata": {},
   "source": [
    "**Exact solution**"
   ]
  },
  {
   "cell_type": "code",
   "execution_count": 3,
   "metadata": {},
   "outputs": [
    {
     "data": {
      "text/plain": [
       "0.006208754649023429"
      ]
     },
     "execution_count": 3,
     "metadata": {},
     "output_type": "execute_result"
    }
   ],
   "source": [
    "@memoize function knight_returns(moves_left, i, j)\n",
    "    moves_left == 0 && return i == j == 0\n",
    "    n_return = 0\n",
    "    for(x,y) in product([(1,2),(2,1)], product([-1,1], [-1, 1]))\n",
    "        n_return += knight_returns(moves_left - 1, i + x[1]*y[1], j + x[2]*y[2])\n",
    "    end\n",
    "    n_return\n",
    "end\n",
    "\n",
    "knight_returns(20,0,0) / 8^20"
   ]
  },
  {
   "cell_type": "markdown",
   "metadata": {},
   "source": [
    "<br>"
   ]
  },
  {
   "cell_type": "markdown",
   "metadata": {},
   "source": [
    "### <a name=\"p2\"> Collecting cigarette cards\n",
    "\n",
    "**Problem**  \n",
    "In the video game “Red Dead Redemption 2,” there is a side quest where the main character is supposed to collect 12 sets of cigarette cards, each consisting of 12 unique cards.\n",
    "\n",
    "Some cards can be found lying around in the open world, but the easiest way to collect the cards is to buy cigarettes at the store and collect the single random card included in each pack. Suppose Arthur is too lazy to look for cards in the open world and tries to complete the set only by buying packs at the store.\n",
    "\n",
    "At $5 a pack, how much money do we expect Arthur to spend to complete all 12 sets?\n",
    "\n",
    "**Simulation solution**"
   ]
  },
  {
   "cell_type": "code",
   "execution_count": 4,
   "metadata": {},
   "outputs": [
    {
     "data": {
      "text/plain": [
       "3995.1533"
      ]
     },
     "execution_count": 4,
     "metadata": {},
     "output_type": "execute_result"
    }
   ],
   "source": [
    "function get_price()\n",
    "    cards, dollars = Set(), 0\n",
    "    while length(cards) < 144\n",
    "        push!(cards, rand(1:144))\n",
    "        dollars += 5\n",
    "    end\n",
    "    dollars\n",
    "end\n",
    "\n",
    "mean(repeat(get_price, nsims))"
   ]
  },
  {
   "cell_type": "markdown",
   "metadata": {},
   "source": [
    "**Exact solution**  \n",
    "This is the [Coupon collector's problem](https://en.wikipedia.org/wiki/Coupon_collector%27s_problem).  \n",
    "If you are only lacking one card out of 144, it will take an average of 144 packs to get it; if you are lacking two cards, it will take an average of 144 / 2 packs, and so on. So we sum all these averages."
   ]
  },
  {
   "cell_type": "code",
   "execution_count": 5,
   "metadata": {},
   "outputs": [
    {
     "data": {
      "text/plain": [
       "3996.357960919262"
      ]
     },
     "execution_count": 5,
     "metadata": {},
     "output_type": "execute_result"
    }
   ],
   "source": [
    "sum(144/n for n in 1:144) * 5"
   ]
  },
  {
   "cell_type": "markdown",
   "metadata": {},
   "source": [
    "<br>"
   ]
  },
  {
   "cell_type": "markdown",
   "metadata": {},
   "source": [
    "### <a name=\"p3\"> The weighted dice\n",
    "\n",
    "**Problem**  \n",
    "You have a friend who you suspect of usign weighted dice. You borrow one of them and roll it 100 times, in which you get 24 sixes. What is the probability that you would've gotten this number of sixes or higher with a normal dice?\n",
    "\n",
    "**Simuation solution**"
   ]
  },
  {
   "cell_type": "code",
   "execution_count": 6,
   "metadata": {},
   "outputs": [
    {
     "data": {
      "text/plain": [
       "0.03818"
      ]
     },
     "execution_count": 6,
     "metadata": {},
     "output_type": "execute_result"
    }
   ],
   "source": [
    "twentyfour_sixes() = count(rand(1:6, 100) .== 6) >= 24\n",
    "\n",
    "simprob(twentyfour_sixes)"
   ]
  },
  {
   "cell_type": "markdown",
   "metadata": {},
   "source": [
    "**Exact solution**"
   ]
  },
  {
   "cell_type": "code",
   "execution_count": 7,
   "metadata": {},
   "outputs": [
    {
     "data": {
      "text/plain": [
       "0.03786436865340891793158842474499197681678593666234919466399082464123118584013411"
      ]
     },
     "execution_count": 7,
     "metadata": {},
     "output_type": "execute_result"
    }
   ],
   "source": [
    "sum(k -> binomial(BigInt(100), BigInt(k)) * (1/6)^k * (5/6)^(100-k), 24:100)"
   ]
  }
 ],
 "metadata": {
  "kernelspec": {
   "display_name": "Julia 1.1.0",
   "language": "julia",
   "name": "julia-1.1"
  },
  "language_info": {
   "file_extension": ".jl",
   "mimetype": "application/julia",
   "name": "julia",
   "version": "1.1.0"
  }
 },
 "nbformat": 4,
 "nbformat_minor": 2
}
